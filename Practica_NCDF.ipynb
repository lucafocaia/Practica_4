{
  "nbformat": 4,
  "nbformat_minor": 0,
  "metadata": {
    "colab": {
      "provenance": [],
      "include_colab_link": true
    },
    "kernelspec": {
      "name": "ir",
      "display_name": "R"
    },
    "language_info": {
      "name": "R"
    }
  },
  "cells": [
    {
      "cell_type": "markdown",
      "metadata": {
        "id": "view-in-github",
        "colab_type": "text"
      },
      "source": [
        "<a href=\"https://colab.research.google.com/github/lucafocaia/Practica_4/blob/main/Practica_NCDF.ipynb\" target=\"_parent\"><img src=\"https://colab.research.google.com/assets/colab-badge.svg\" alt=\"Open In Colab\"/></a>"
      ]
    },
    {
      "cell_type": "markdown",
      "source": [
        "#Google Colab\n",
        "\n",
        "\n",
        "R y Markdown en Colab/Jupyter"
      ],
      "metadata": {
        "id": "a4MJl03t1ehZ"
      }
    },
    {
      "cell_type": "markdown",
      "source": [
        "##Tipos de celdas y como ejecutarlas"
      ],
      "metadata": {
        "id": "hDt0ZLL75sIg"
      }
    },
    {
      "cell_type": "markdown",
      "source": [
        "Esto es una línea de texto (--> Hacer doble click sobre este celda para editarla <--)"
      ],
      "metadata": {
        "id": "gTPQAm39B3Or"
      }
    },
    {
      "cell_type": "code",
      "source": [
        "#Esto es una línea de código\n",
        "print(\"Hola mundo!\")"
      ],
      "metadata": {
        "id": "ygc199bQ5rc0",
        "colab": {
          "base_uri": "https://localhost:8080/"
        },
        "outputId": "9a874216-ec41-4e1a-99bb-bb14cfcfc805"
      },
      "execution_count": 2,
      "outputs": [
        {
          "output_type": "stream",
          "name": "stdout",
          "text": [
            "[1] \"Hola mundo!\"\n"
          ]
        }
      ]
    },
    {
      "cell_type": "markdown",
      "source": [
        "## Nucleo/entorno de ejecución\n",
        "\n",
        "Google Colab utiliza como entorno de ejecución Python (versión 3) y de R sobre diferentes configuraciones del equipo, como CPU o que posea además algún acelerador (utilizando GPU o TPU).\n",
        "\n",
        "Existe un límite de tiempo de uso del servicio de Colab (unas 12 horas corridas), 100 GB almacenamiento (durante la duración de la conexión) y 12 GB de RAM. Recuerden que es una Maquina Virtual, después de la finalización de la sesión se pierden los contenidos guardados (datos y variables). Solo quedan las salidas de las celdas de ejecución.\n",
        "\n",
        "Sin embargo, tanto el uso de aceleradores como los límites indicados solo se\n",
        "tornan relevantes para el caso de códigos muy complejos. No es necesario\n",
        "preocuparse por ellos para el caso de desarrollar códigos simples.\n",
        "\n",
        "\\\n",
        "**A tener en cuenta!!!**\n",
        "\n",
        "Puede ocurrir que nos pongamos a realizar otra cosa o nos fuimos a hacer a algo, y la sesión quedó abierta. Lo que ocurre es después de un tiempo de inactividad la sesión se cae. Cuando retomemos la sesión clikeando en **Reconectar**, abajo del botón \"Compartir\", suele (¡Tengan cuidado!) que los archivos que teniamos cargados se quedan aún en el entorno por lo que no es necesario volverlo a cargar.\n",
        "\n",
        "\\\n",
        "En la barra de herramientas arriba de la notebook hacia la izquierda encontraran la solapa \"Editar\", dentro de llega tienen la opción de **Configuración del Notebook**. Aca es donde pueden modificar el entorno de ejecución (Python o R) y los aceleradores que deseamos utilizar (CPU, GPU, TPU)."
      ],
      "metadata": {
        "id": "-gM7Vcoq4d54"
      }
    },
    {
      "cell_type": "markdown",
      "source": [
        "## Añadiendo celdas\n",
        "Para añadir nuevas celdas usando los botones **+ Código** and **+ Texto** que se muestran cuando pasamos el mouse entre las celdas. Estos botones se encuentran también en la barra de herramientas sobre la notebook, se añadiran debajo de la celda seleccionada.\n",
        "\n",
        "Se pueden mover una seleccionandola y haciendo click en **Mover celda hacia arriba** ⇑ o **Mover celda hacia abajo** ⇓\n",
        "\n",
        "\n",
        "Prueben con la celda de abajo:"
      ],
      "metadata": {
        "id": "itQFrk0g0y76"
      }
    },
    {
      "cell_type": "code",
      "source": [],
      "metadata": {
        "id": "5-KZGcDi21JN"
      },
      "execution_count": 4,
      "outputs": []
    },
    {
      "cell_type": "markdown",
      "source": [
        "##Estética de las notebook\n",
        "\n",
        "En el engranaje al lado de nuestro perfil, encontraremos las configuraciones de aspecto para la notebook (además de Colab Pro y Github)\n",
        "- En **sitio/site** veran pueden configurar el tema de la notebook.\n",
        "- En **editor** tienen las opciones para configurar la fuente de texto en el código, cómo demás artilugios relacionados con su estructura.\n",
        "- En **varios/miscellaneous** pueden poner perros, gatitos y cangrejos caminando arriba de la notebook y en Nivel de Poder/Power Level un motivación para codear rápido.\n",
        "\n",
        "##Referencias\n",
        "\n",
        "* <a href=\"https://colab.research.google.com/?hl=es#scrollTo=lSrWNr3MuFUS\">Bienvenida a Colab</a>.\n",
        "* <a href=\"https://colab.research.google.com/notebooks/basic_features_overview.ipynb#scrollTo=_YrTcK7k22Fp\">Características</a>.\n",
        "* <a href=\"https://colab.research.google.com/notebooks/markdown_guide.ipynb\"> Guía de Markdown en Colab</a>.\n",
        "* <a href=\"https://colab.research.google.com/github/googlecolab/colabtools/blob/main/notebooks/colab-github-demo.ipynb#scrollTo=8QAWNjizy_3O\">Github</a>\n",
        "* <a href=\"https://nbviewer.org/github/ipython/ipython/blob/1.x/examples/notebooks/Cell%20Magics.ipynb\">Jupyter Magics</a> (solo Python)\n",
        "* <a href=\"https://fcaglp.unlp.edu.ar/~gbaume/grupo/Publicaciones/Apuntes/GoogleColab.pdf\">Apunte</a>"
      ],
      "metadata": {
        "id": "o0BcHeSSo-ZD"
      }
    },
    {
      "cell_type": "markdown",
      "source": [
        "#Trabajando con fechas con la libreria Lubridate"
      ],
      "metadata": {
        "id": "hcL7OWNR8R-y"
      }
    },
    {
      "cell_type": "code",
      "source": [
        "install.packages(\"lubridate\")\n",
        "library(lubridate)"
      ],
      "metadata": {
        "id": "0vvp8XTlNJQh",
        "colab": {
          "base_uri": "https://localhost:8080/"
        },
        "outputId": "0465fcdd-9da6-4c80-978a-c23e5652ce86"
      },
      "execution_count": 10,
      "outputs": [
        {
          "output_type": "stream",
          "name": "stderr",
          "text": [
            "Installing package into ‘/usr/local/lib/R/site-library’\n",
            "(as ‘lib’ is unspecified)\n",
            "\n",
            "\n",
            "Attaching package: ‘lubridate’\n",
            "\n",
            "\n",
            "The following objects are masked from ‘package:base’:\n",
            "\n",
            "    date, intersect, setdiff, union\n",
            "\n",
            "\n"
          ]
        }
      ]
    },
    {
      "cell_type": "markdown",
      "source": [
        "Vamos a definir una fecha y horario completo para manipularla con la función ymd_hms(fecha).\n",
        "\n",
        "Ingresen la fecha de nacimiento de ustedes en el formato **\"YYYY-MM-DD HH-mm-ss\"\"** e impriman la clase a la que corresponde:"
      ],
      "metadata": {
        "id": "ELps6azLNUBM"
      }
    },
    {
      "cell_type": "code",
      "source": [
        "fecha_nacimiento <- ymd_hms(\"2002-09-30 18:30:00\")\n",
        "fecha_nacimiento\n",
        "\n",
        "class(fecha_nacimiento)"
      ],
      "metadata": {
        "id": "VmoLhRqc82C_",
        "colab": {
          "base_uri": "https://localhost:8080/",
          "height": 52
        },
        "outputId": "b01b7b43-6f61-4588-d46e-65fa24e343e1"
      },
      "execution_count": 11,
      "outputs": [
        {
          "output_type": "display_data",
          "data": {
            "text/plain": [
              "[1] \"2002-09-30 18:30:00 UTC\""
            ]
          },
          "metadata": {}
        },
        {
          "output_type": "display_data",
          "data": {
            "text/html": [
              "<style>\n",
              ".list-inline {list-style: none; margin:0; padding: 0}\n",
              ".list-inline>li {display: inline-block}\n",
              ".list-inline>li:not(:last-child)::after {content: \"\\00b7\"; padding: 0 .5ex}\n",
              "</style>\n",
              "<ol class=list-inline><li>'POSIXct'</li><li>'POSIXt'</li></ol>\n"
            ],
            "text/markdown": "1. 'POSIXct'\n2. 'POSIXt'\n\n\n",
            "text/latex": "\\begin{enumerate*}\n\\item 'POSIXct'\n\\item 'POSIXt'\n\\end{enumerate*}\n",
            "text/plain": [
              "[1] \"POSIXct\" \"POSIXt\" "
            ]
          },
          "metadata": {}
        }
      ]
    },
    {
      "cell_type": "markdown",
      "source": [
        "'POSIXct' (ct -> CommonTime) es una representación interna de R para guardar fechas y horas. A grandes rasgos es una codificación en su parte entera de la fecha, y en los decimales la parte de la hora."
      ],
      "metadata": {
        "id": "5IWKyL2fOZ-9"
      }
    },
    {
      "cell_type": "markdown",
      "source": [
        "Prueben de utilizar las funciones **year()**, **month()**, **day()**, **hour()**, **minute()**, **second()** sobre la variable de fecha que definimos, y vean que les devuelve."
      ],
      "metadata": {
        "id": "ZWAstaydH7xx"
      }
    },
    {
      "cell_type": "code",
      "source": [],
      "metadata": {
        "id": "ldg5u7T_JSEf"
      },
      "execution_count": null,
      "outputs": []
    },
    {
      "cell_type": "markdown",
      "source": [
        "##Duraciones\n",
        "\n",
        "Existe una gama de funciones llamadas de forma similar a las anteriores llamadas duraciones. A un conjunto se la escribe en plural y a otro conjunto adicionalmente a esto, se le agrega una \"d\" adelante de la duración. Si se le sumo un año a mi variable fecha. ¿Qué me devuelve?. Luego prueben de sumar 1.5 años **(No la guarden o guardenlas en un variable nueva)**\n",
        "\n",
        "* year( ) ⇒ years( ) | dyears( )\n",
        "* month( ) ⇒ months( ) | dmonths( )\n",
        "* day( ) ⇒ days( ) | ddays( )\n",
        "* hour( ) ⇒ hours( ) | dhours( )\n",
        "* minute( ) ⇒ minutes( ) | dminutes( )\n",
        "* second( ) ⇒ seconds( ) | dseconds( )"
      ],
      "metadata": {
        "id": "UPSWjArt0CmB"
      }
    },
    {
      "cell_type": "code",
      "source": [
        "year(fecha_nacimiento)\n",
        "month(fecha_nacimiento)\n",
        "day(fecha_nacimiento)\n",
        "hour(fecha_nacimiento)\n",
        "minute(fecha_nacimiento)\n",
        "second(fecha_nacimiento)"
      ],
      "metadata": {
        "id": "HXzJJ4SooTNi",
        "colab": {
          "base_uri": "https://localhost:8080/",
          "height": 121
        },
        "outputId": "9f48801c-03ea-4e06-f6f6-37f0b5c610f1"
      },
      "execution_count": 12,
      "outputs": [
        {
          "output_type": "display_data",
          "data": {
            "text/html": [
              "2002"
            ],
            "text/markdown": "2002",
            "text/latex": "2002",
            "text/plain": [
              "[1] 2002"
            ]
          },
          "metadata": {}
        },
        {
          "output_type": "display_data",
          "data": {
            "text/html": [
              "9"
            ],
            "text/markdown": "9",
            "text/latex": "9",
            "text/plain": [
              "[1] 9"
            ]
          },
          "metadata": {}
        },
        {
          "output_type": "display_data",
          "data": {
            "text/html": [
              "30"
            ],
            "text/markdown": "30",
            "text/latex": "30",
            "text/plain": [
              "[1] 30"
            ]
          },
          "metadata": {}
        },
        {
          "output_type": "display_data",
          "data": {
            "text/html": [
              "18"
            ],
            "text/markdown": "18",
            "text/latex": "18",
            "text/plain": [
              "[1] 18"
            ]
          },
          "metadata": {}
        },
        {
          "output_type": "display_data",
          "data": {
            "text/html": [
              "30"
            ],
            "text/markdown": "30",
            "text/latex": "30",
            "text/plain": [
              "[1] 30"
            ]
          },
          "metadata": {}
        },
        {
          "output_type": "display_data",
          "data": {
            "text/html": [
              "0"
            ],
            "text/markdown": "0",
            "text/latex": "0",
            "text/plain": [
              "[1] 0"
            ]
          },
          "metadata": {}
        }
      ]
    },
    {
      "cell_type": "code",
      "source": [
        "fecha_nacimiento + years(1)\n",
        "fecha_nacimiento + dyears(1)"
      ],
      "metadata": {
        "colab": {
          "base_uri": "https://localhost:8080/",
          "height": 52
        },
        "id": "YaGohPFAT6iK",
        "outputId": "37f91942-34ff-47da-c4f2-181fa194f01b"
      },
      "execution_count": 18,
      "outputs": [
        {
          "output_type": "display_data",
          "data": {
            "text/plain": [
              "[1] \"2003-09-30 18:30:00 UTC\""
            ]
          },
          "metadata": {}
        },
        {
          "output_type": "display_data",
          "data": {
            "text/plain": [
              "[1] \"2003-10-01 00:30:00 UTC\""
            ]
          },
          "metadata": {}
        }
      ]
    },
    {
      "cell_type": "code",
      "source": [
        "fecha_nacimiento + years(1.5)"
      ],
      "metadata": {
        "id": "iMVy-B_eUPrq"
      },
      "execution_count": null,
      "outputs": []
    },
    {
      "cell_type": "code",
      "source": [
        "fecha_nacimiento + dyears(1.5)"
      ],
      "metadata": {
        "colab": {
          "base_uri": "https://localhost:8080/",
          "height": 34
        },
        "id": "u3h9fkZ8USXo",
        "outputId": "895104a9-4197-4aa9-c9f5-9daa6d7982cd"
      },
      "execution_count": 23,
      "outputs": [
        {
          "output_type": "display_data",
          "data": {
            "text/plain": [
              "[1] \"2004-03-31 15:30:00 UTC\""
            ]
          },
          "metadata": {}
        }
      ]
    },
    {
      "cell_type": "markdown",
      "source": [
        "Impriman years(1) e dyears(1)"
      ],
      "metadata": {
        "id": "GEDJTPANs3gK"
      }
    },
    {
      "cell_type": "code",
      "source": [
        "years(1)"
      ],
      "metadata": {
        "colab": {
          "base_uri": "https://localhost:8080/"
        },
        "id": "6Cq0dn0lUZWS",
        "outputId": "2d265773-8576-4841-e37a-02ec97803b8b"
      },
      "execution_count": 24,
      "outputs": [
        {
          "output_type": "stream",
          "name": "stdout",
          "text": [
            "[1] \"1y 0m 0d 0H 0M 0S\"\n"
          ]
        }
      ]
    },
    {
      "cell_type": "code",
      "source": [
        "dyears(1)"
      ],
      "metadata": {
        "colab": {
          "base_uri": "https://localhost:8080/"
        },
        "id": "KzhCYO9dUcx-",
        "outputId": "1c5b948e-fbde-412f-fe93-5a5d18a72c5e"
      },
      "execution_count": 25,
      "outputs": [
        {
          "output_type": "stream",
          "name": "stdout",
          "text": [
            "[1] \"31557600s (~1 years)\"\n"
          ]
        }
      ]
    },
    {
      "cell_type": "code",
      "source": [
        "dyears(1)/60/60/24"
      ],
      "metadata": {
        "colab": {
          "base_uri": "https://localhost:8080/",
          "height": 34
        },
        "id": "vyI04i1TUoKZ",
        "outputId": "7f0f5650-a4d4-4007-f2b5-58c1ff89faee"
      },
      "execution_count": 26,
      "outputs": [
        {
          "output_type": "display_data",
          "data": {
            "text/html": [
              "365.25s (~6.09 minutes)"
            ],
            "text/markdown": "365.25s (~6.09 minutes)",
            "text/latex": "365.25s (\\textasciitilde{}6.09 minutes)",
            "text/plain": [
              "[1] \"365.25s (~6.09 minutes)\""
            ]
          },
          "metadata": {}
        }
      ]
    },
    {
      "cell_type": "markdown",
      "source": [
        "### Calculando diferencias entre tiempos\n",
        "\n",
        "Queremos tener el tiempo de este momento, podemos utilizar la función **now()** de lubridate que nos da la fecha y el horario del momento en que se ejecuta la línea de código.\n",
        "\n",
        "Definan la variable con now, ejecuten la variable sola y luego imprimanla por pantalla con **print** que diga algún mensaje del estilo \"El tiempo actual es: \", ¿Les devuelve lo mismo?."
      ],
      "metadata": {
        "id": "qnplzNIKIol3"
      }
    },
    {
      "cell_type": "code",
      "source": [
        "ahora <- now()\n",
        "ahora"
      ],
      "metadata": {
        "id": "ycIvURNhgnN_",
        "colab": {
          "base_uri": "https://localhost:8080/",
          "height": 34
        },
        "outputId": "490efe09-0edd-4830-836d-abdb09c53033"
      },
      "execution_count": 27,
      "outputs": [
        {
          "output_type": "display_data",
          "data": {
            "text/plain": [
              "[1] \"2023-10-26 14:12:48 UTC\""
            ]
          },
          "metadata": {}
        }
      ]
    },
    {
      "cell_type": "code",
      "source": [
        "print(paste(\"El tiempo actual es\", ahora))"
      ],
      "metadata": {
        "colab": {
          "base_uri": "https://localhost:8080/"
        },
        "id": "A_XU0FstVQav",
        "outputId": "8142e655-9175-4c94-aef8-565bcab341b4"
      },
      "execution_count": 30,
      "outputs": [
        {
          "output_type": "stream",
          "name": "stdout",
          "text": [
            "[1] \"El tiempo actual es 2023-10-26 14:12:48.071824\"\n"
          ]
        }
      ]
    },
    {
      "cell_type": "markdown",
      "source": [
        "###Formato\n",
        "\n",
        "Para cambiar el formato de las variables de tipo fecha podemos utilizar **format()**. Es muy útil para utilizar las fechas en el formato que deseemos por ejemplo:\n",
        "\n",
        "* fecha_formato1 <- format(fecha, %d/%m/%Y %H%M%S) #Formato dd/mm/YYYY HHMMSS.\n",
        "* fecha_formato2 <- format(fecha, tz=\"\"), sigue siendo UTC, pero le sacamos que diga UTC.\n",
        "* fecha_formato3 <- format(fecha, \"%A, %d de %B de %Y\"), Wednesday, 14 de July de 2023 (Ejemplo).\n",
        "\n",
        "Prueben este formato para corregir lo que nos ocurre cuando lo usamos en un print en un mensaje."
      ],
      "metadata": {
        "id": "KMCOOd5XRQqn"
      }
    },
    {
      "cell_type": "code",
      "source": [
        "fecha_formato2 <- format(ahora, tz=\"\")\n",
        "print(paste(\"El tiempo actual es\", fecha_formato2))"
      ],
      "metadata": {
        "id": "0iON-gbhRQ9p",
        "colab": {
          "base_uri": "https://localhost:8080/"
        },
        "outputId": "dac9a0bc-dfe9-41b9-c2b0-2a5346a4d342"
      },
      "execution_count": 33,
      "outputs": [
        {
          "output_type": "stream",
          "name": "stdout",
          "text": [
            "[1] \"El tiempo actual es 2023-10-26 14:12:48\"\n"
          ]
        }
      ]
    },
    {
      "cell_type": "markdown",
      "source": [
        "###Diferencia de tiempo\n",
        "\n",
        "Con la función **difftime(fecha_ini, fecha_fin, , units = \"days\")**, podemos calcular cuanta distancia temporal exiten entre dos variables de tiempo.\n",
        "\n",
        "Queremos conocer cuanto tiempo paso entre que nacieron y este momento."
      ],
      "metadata": {
        "id": "JYGSRSKsQ_iA"
      }
    },
    {
      "cell_type": "code",
      "source": [
        "diferencia <- difftime(ahora, fecha_nacimiento, units = \"days\")\n",
        "diferencia"
      ],
      "metadata": {
        "colab": {
          "base_uri": "https://localhost:8080/",
          "height": 34
        },
        "id": "0SeTTHl_Q-lI",
        "outputId": "dfb8058d-2c14-4434-e831-1b4bfbdaa00b"
      },
      "execution_count": 35,
      "outputs": [
        {
          "output_type": "display_data",
          "data": {
            "text/plain": [
              "Time difference of 7695.821 days"
            ]
          },
          "metadata": {}
        }
      ]
    },
    {
      "cell_type": "markdown",
      "source": [
        "###Practiquen\n",
        "\n",
        "¿Qué día de su vida será el 10000 de su vida? ¿Cuánto tiempo falta para eso?"
      ],
      "metadata": {
        "id": "yJGl1evvu2F7"
      }
    },
    {
      "cell_type": "code",
      "source": [
        "dia10000 <- fecha_nacimiento + days(10000)\n",
        "dia10000\n",
        "print(difftime(dia10000, ahora, units = \"days\"))"
      ],
      "metadata": {
        "id": "ZE325zRsypwF",
        "colab": {
          "base_uri": "https://localhost:8080/",
          "height": 52
        },
        "outputId": "3e271524-af16-4f2c-f9f9-4d83f0a97c37"
      },
      "execution_count": 41,
      "outputs": [
        {
          "output_type": "display_data",
          "data": {
            "text/plain": [
              "[1] \"2030-02-15 18:30:00 UTC\""
            ]
          },
          "metadata": {}
        },
        {
          "output_type": "stream",
          "name": "stdout",
          "text": [
            "Time difference of 2304.179 days\n"
          ]
        }
      ]
    },
    {
      "cell_type": "code",
      "source": [
        "dia20000 <- fecha_nacimiento + days(20000)\n",
        "dia20000"
      ],
      "metadata": {
        "colab": {
          "base_uri": "https://localhost:8080/",
          "height": 34
        },
        "id": "kuhJLBO9YQ5C",
        "outputId": "4bd55963-8cd0-40fe-b455-c05846b08ee5"
      },
      "execution_count": 42,
      "outputs": [
        {
          "output_type": "display_data",
          "data": {
            "text/plain": [
              "[1] \"2057-07-03 18:30:00 UTC\""
            ]
          },
          "metadata": {}
        }
      ]
    },
    {
      "cell_type": "code",
      "source": [
        "fecha_nacimiento + days(30000)"
      ],
      "metadata": {
        "colab": {
          "base_uri": "https://localhost:8080/",
          "height": 34
        },
        "id": "0MVEq_8NYylK",
        "outputId": "17193f6d-6845-41fb-8bb3-5fbefe872b6b"
      },
      "execution_count": 43,
      "outputs": [
        {
          "output_type": "display_data",
          "data": {
            "text/plain": [
              "[1] \"2084-11-18 18:30:00 UTC\""
            ]
          },
          "metadata": {}
        }
      ]
    },
    {
      "cell_type": "markdown",
      "source": [
        "#NetCDF\n",
        "\n",
        "NetCDF (Network Common Data Form) es un conjunto de bibliotecas de software y formatos de datos independientes de la máquina que permiten crear, acceder y compartir datos científicos orientados a matrices. También es un estándar comunitario para compartir datos científicos.\n",
        "\n",
        "El Centro de Programas <a href=\"https://www.unidata.ucar.edu/\">Unidata</a> soporta y mantiene interfaces de programación netCDF para C, C++, Java y Fortran. También hay disponibles interfaces de programación para Python, IDL, MATLAB, **R**, Ruby y Perl.\n",
        "\n",
        "##Características\n",
        "- **Autodescrito**. Un archivo netCDF incluye información sobre el que contiene.\n",
        "\n",
        "- **Portátil**. Un archivo netCDF se puede acceder por computadoras con diferentes maneras de almacenar números enteros, caracteres y punto flotante.\n",
        "\n",
        "- **Escalable**. A través de las interfaces netCDF se puede acceder eficazmente a pequeños subconjuntos de grandes conjuntos de datos en diversos formatos, incluso desde servidores remotos.\n",
        "\n",
        "- **Anexables**. Los datos pueden añadirse a un archivo netCDF correctamente estructurado sin copiar el conjunto de datos ni redefinir su estructura.\n",
        "\n",
        "- **Compartible**. Un escritor y varios lectores pueden acceder simultáneamente al mismo archivo netCDF.\n",
        "\n",
        "- **Archivable**. El acceso a todas las formas anteriores de netCDF serán compatibles con las versiones y futuras versiones del software.\n",
        "\n",
        "Más info ⇒ <a href=\"https://www.unidata.ucar.edu/publications/factsheets/current/factsheet_netcdf.pdf\">factsheets netCDF</a>."
      ],
      "metadata": {
        "id": "FI0oJz2CsDpl"
      }
    },
    {
      "cell_type": "markdown",
      "source": [
        "#Ejercicio\n",
        "\n",
        "Instalamos y llamos a las librerias que vamos a utilizar. Lubridate ya la tenemos a disposición."
      ],
      "metadata": {
        "id": "ifwiW3z8Um-v"
      }
    },
    {
      "cell_type": "code",
      "execution_count": 44,
      "metadata": {
        "id": "06UzKShaTFrT",
        "colab": {
          "base_uri": "https://localhost:8080/"
        },
        "outputId": "ccb04713-fe5b-42e3-f0e2-50a28aedd109"
      },
      "outputs": [
        {
          "output_type": "stream",
          "name": "stderr",
          "text": [
            "Installing package into ‘/usr/local/lib/R/site-library’\n",
            "(as ‘lib’ is unspecified)\n",
            "\n"
          ]
        }
      ],
      "source": [
        "rm(list=ls())\n",
        "install.packages(\"ncdf4\")\n",
        "library(ncdf4)"
      ]
    },
    {
      "cell_type": "markdown",
      "source": [
        "##Descargamos un archivo NCDF\n",
        "Vamos a utilizar la función intríseca \"**download.file(url,destino)**\" de R para hacerlo. Esto nos dará un archivo de tipo .zip que luego utilizaremos la función ***unzip*** para abri dicho archivo.\n",
        "\n",
        "En este caso trabajaremos con datos de estimaciones de precipitación horarios, que es un producto disponible en el Center for Hydrometeorology and Remote Sensing (CHRS), ver <a href=\"http://chrsdata.eng.uci.edu/\">link</a>."
      ],
      "metadata": {
        "id": "vxro-sbYrn70"
      }
    },
    {
      "cell_type": "code",
      "source": [
        "url <- \"https://chrsdata.eng.uci.edu/userFile/PERSIANN-PDIR/sergiohgonzalezxmwimL.zip\"\n",
        "nombre_datos <- \"Datos_PERSIANN_PDIR.zip\"\n",
        "\n",
        "download.file(url, paste0(\"/content/\",nombre_datos))"
      ],
      "metadata": {
        "id": "H7t6aZSnLJCJ"
      },
      "execution_count": 45,
      "outputs": []
    },
    {
      "cell_type": "code",
      "source": [
        "unzip(\"/content/Datos_PERSIANN_PDIR.zip\", exdir = \"/content/\")"
      ],
      "metadata": {
        "id": "0SSQz6eQLN1w"
      },
      "execution_count": 46,
      "outputs": []
    },
    {
      "cell_type": "markdown",
      "source": [
        "## Miremos cuantos archivos tenemos"
      ],
      "metadata": {
        "id": "brcoP6eSeNqZ"
      }
    },
    {
      "cell_type": "code",
      "source": [
        "files <- list.files(\"/content/\") #Esta función me lista los archivos que se encuentran en la carpeta de destino que le indico\n",
        "files"
      ],
      "metadata": {
        "id": "geNHICfieNQ7",
        "colab": {
          "base_uri": "https://localhost:8080/",
          "height": 34
        },
        "outputId": "05de06f7-6680-4111-c62e-938bb1615a47"
      },
      "execution_count": 47,
      "outputs": [
        {
          "output_type": "display_data",
          "data": {
            "text/html": [
              "<style>\n",
              ".list-inline {list-style: none; margin:0; padding: 0}\n",
              ".list-inline>li {display: inline-block}\n",
              ".list-inline>li:not(:last-child)::after {content: \"\\00b7\"; padding: 0 .5ex}\n",
              "</style>\n",
              "<ol class=list-inline><li>'Datos_PERSIANN_PDIR.zip'</li><li>'info.txt'</li><li>'PDIR_2023-10-25103925pm_202310.nc'</li><li>'read_netcdf.m'</li><li>'read_netcdf.py'</li><li>'sample_data'</li></ol>\n"
            ],
            "text/markdown": "1. 'Datos_PERSIANN_PDIR.zip'\n2. 'info.txt'\n3. 'PDIR_2023-10-25103925pm_202310.nc'\n4. 'read_netcdf.m'\n5. 'read_netcdf.py'\n6. 'sample_data'\n\n\n",
            "text/latex": "\\begin{enumerate*}\n\\item 'Datos\\_PERSIANN\\_PDIR.zip'\n\\item 'info.txt'\n\\item 'PDIR\\_2023-10-25103925pm\\_202310.nc'\n\\item 'read\\_netcdf.m'\n\\item 'read\\_netcdf.py'\n\\item 'sample\\_data'\n\\end{enumerate*}\n",
            "text/plain": [
              "[1] \"Datos_PERSIANN_PDIR.zip\"           \"info.txt\"                         \n",
              "[3] \"PDIR_2023-10-25103925pm_202310.nc\" \"read_netcdf.m\"                    \n",
              "[5] \"read_netcdf.py\"                    \"sample_data\"                      "
            ]
          },
          "metadata": {}
        }
      ]
    },
    {
      "cell_type": "markdown",
      "source": [
        "Miremos uno de los archivos NCDF, y lo abrimos con la función nc_open. Como vieron en la teórica y lo que más van a utilizar es si van a permitir o no la escritura del archivo, que lo determinan con el argumento **write**.\n",
        "\n",
        "\\\n",
        "***nc_open( filename, write=FALSE, readunlim=TRUE, verbose=FALSE, auto_GMT=TRUE, suppress_dimvals=FALSE, return_on_error=FALSE )***"
      ],
      "metadata": {
        "id": "gYHb2sk4b6H4"
      }
    },
    {
      "cell_type": "code",
      "source": [
        "datos_PERSIANN <- nc_open(filename = paste0(\"/content/\", files[3]) )"
      ],
      "metadata": {
        "id": "6mKz2nv2qZO0"
      },
      "execution_count": 59,
      "outputs": []
    },
    {
      "cell_type": "markdown",
      "source": [
        "Veamos que hay dentro de estos archivos, esto se puede saber llamando al archivo NCDF por pantalla (como vamos a hacer) o mirar la documentación de donde vienen los datos."
      ],
      "metadata": {
        "id": "sFthSoZlgXGX"
      }
    },
    {
      "cell_type": "code",
      "source": [
        "datos_PERSIANN"
      ],
      "metadata": {
        "id": "MU5NWViha4c4",
        "colab": {
          "base_uri": "https://localhost:8080/",
          "height": 382
        },
        "outputId": "2f20126f-d871-4fc1-b589-81217ee30579"
      },
      "execution_count": 60,
      "outputs": [
        {
          "output_type": "display_data",
          "data": {
            "text/plain": [
              "File /content/PDIR_2023-10-25103925pm_202310.nc (NC_FORMAT_NETCDF4):\n",
              "\n",
              "     2 variables (excluding dimension variables):\n",
              "        int crs[]   (Contiguous storage)  \n",
              "            long_name: Lon/Lat Coords in WGS84\n",
              "            grid_mapping_name: latitude_longitude\n",
              "            longitude_of_prime_meridian: 0\n",
              "            semi_major_axis: 6378137\n",
              "            inverse_flattening: 298.257223563\n",
              "        short precip[lon,lat,datetime]   (Chunking: [16,16,12])  (Compression: shuffle,level 4)\n",
              "            grid_mapping: crs\n",
              "\n",
              "     3 dimensions:\n",
              "        lon  Size:175 \n",
              "        lat  Size:275 \n",
              "        datetime  Size:144   *** is unlimited *** \n",
              "            units: hours since 2023-10-20 00\n",
              "            calendar: gregorian\n",
              "\n",
              "    1 global attributes:\n",
              "        Conventions: CF-1.6"
            ]
          },
          "metadata": {}
        }
      ]
    },
    {
      "cell_type": "markdown",
      "source": [
        "Observen toda la información que nos da el archivo:\n",
        "- La cantidad de variables.\n",
        "- El tipo de dato de cada variable, su nombre, por cuales dimensiones están conformadas, y las dimensiones.\n",
        "- Las unidades, su nombre estándar y nombre largo, con que tipo de reticulado están definidos y en que coordenadas están cada variable.\n",
        "- Las específicaciones de las dimensiones de los datos.\n",
        "- Atributos globales, estos son datos de configuración del modelo.\n",
        "\n",
        "Si queremos extraer uno de los datos podemos utilizar la función ***ncvar_get***. Y cerramos el archivo con la función ***nc_close*** , recuerden siempre de cerrar los achivos NCDF que abren y no utilizan más, porque si no llenan la memoria de archivos abiertos."
      ],
      "metadata": {
        "id": "s3t6Wt5ggzK1"
      }
    },
    {
      "cell_type": "code",
      "source": [
        "datos_PP <- ncvar_get(datos_PERSIANN, \"precip\") #Extraemos la precipitación horaria en superficie"
      ],
      "metadata": {
        "id": "_UkHwinGrpRt"
      },
      "execution_count": 65,
      "outputs": []
    },
    {
      "cell_type": "code",
      "source": [
        "nc_close(datos_PERSIANN)"
      ],
      "metadata": {
        "id": "MN0LPH8rdfIf"
      },
      "execution_count": null,
      "outputs": []
    },
    {
      "cell_type": "markdown",
      "source": [
        "#**Ejercicio**\n",
        "\n",
        "Con los datos que descargaron:\n",
        "\n",
        "* Imprimir por pantalla la precipitación máxima del día en la región y en que horario ocurrió. El mensaje debe estar estructurado de la siguiente manera: \"La precipitacion maxima para el dia dd de mm del YYYY ocurrio a las HH UTC y llovio  de **PP** mm.\"."
      ],
      "metadata": {
        "id": "buCKhstM1A5d"
      }
    },
    {
      "cell_type": "code",
      "source": [
        "datos_PP1 <- array(datos_PP, dim = c(175,275,144))"
      ],
      "metadata": {
        "id": "iWoNqEIKevxu"
      },
      "execution_count": 72,
      "outputs": []
    },
    {
      "cell_type": "code",
      "source": [
        "Time <- ncvar_get(datos_PERSIANN, varid = \"datetime\")\n",
        "Time\n",
        "time <- ymd_h(\"2023-10-20 00\") + hours(Time)\n",
        "time"
      ],
      "metadata": {
        "colab": {
          "base_uri": "https://localhost:8080/",
          "height": 1000
        },
        "id": "BIbRVV-ibsBo",
        "outputId": "2df91fb5-6668-477a-a75c-6cfaab9c5460"
      },
      "execution_count": 63,
      "outputs": [
        {
          "output_type": "display_data",
          "data": {
            "text/html": [
              "<style>\n",
              ".list-inline {list-style: none; margin:0; padding: 0}\n",
              ".list-inline>li {display: inline-block}\n",
              ".list-inline>li:not(:last-child)::after {content: \"\\00b7\"; padding: 0 .5ex}\n",
              "</style>\n",
              "<ol class=list-inline><li>0</li><li>1</li><li>2</li><li>3</li><li>4</li><li>5</li><li>6</li><li>7</li><li>8</li><li>9</li><li>10</li><li>11</li><li>12</li><li>13</li><li>14</li><li>15</li><li>16</li><li>17</li><li>18</li><li>19</li><li>20</li><li>21</li><li>22</li><li>23</li><li>24</li><li>25</li><li>26</li><li>27</li><li>28</li><li>29</li><li>30</li><li>31</li><li>32</li><li>33</li><li>34</li><li>35</li><li>36</li><li>37</li><li>38</li><li>39</li><li>40</li><li>41</li><li>42</li><li>43</li><li>44</li><li>45</li><li>46</li><li>47</li><li>48</li><li>49</li><li>50</li><li>51</li><li>52</li><li>53</li><li>54</li><li>55</li><li>56</li><li>57</li><li>58</li><li>59</li><li>60</li><li>61</li><li>62</li><li>63</li><li>64</li><li>65</li><li>66</li><li>67</li><li>68</li><li>69</li><li>70</li><li>71</li><li>72</li><li>73</li><li>74</li><li>75</li><li>76</li><li>77</li><li>78</li><li>79</li><li>80</li><li>81</li><li>82</li><li>83</li><li>84</li><li>85</li><li>86</li><li>87</li><li>88</li><li>89</li><li>90</li><li>91</li><li>92</li><li>93</li><li>94</li><li>95</li><li>96</li><li>97</li><li>98</li><li>99</li><li>100</li><li>101</li><li>102</li><li>103</li><li>104</li><li>105</li><li>106</li><li>107</li><li>108</li><li>109</li><li>110</li><li>111</li><li>112</li><li>113</li><li>114</li><li>115</li><li>116</li><li>117</li><li>118</li><li>119</li><li>120</li><li>121</li><li>122</li><li>123</li><li>124</li><li>125</li><li>126</li><li>127</li><li>128</li><li>129</li><li>130</li><li>131</li><li>132</li><li>133</li><li>134</li><li>135</li><li>136</li><li>137</li><li>138</li><li>139</li><li>140</li><li>141</li><li>142</li><li>143</li></ol>\n"
            ],
            "text/markdown": "1. 0\n2. 1\n3. 2\n4. 3\n5. 4\n6. 5\n7. 6\n8. 7\n9. 8\n10. 9\n11. 10\n12. 11\n13. 12\n14. 13\n15. 14\n16. 15\n17. 16\n18. 17\n19. 18\n20. 19\n21. 20\n22. 21\n23. 22\n24. 23\n25. 24\n26. 25\n27. 26\n28. 27\n29. 28\n30. 29\n31. 30\n32. 31\n33. 32\n34. 33\n35. 34\n36. 35\n37. 36\n38. 37\n39. 38\n40. 39\n41. 40\n42. 41\n43. 42\n44. 43\n45. 44\n46. 45\n47. 46\n48. 47\n49. 48\n50. 49\n51. 50\n52. 51\n53. 52\n54. 53\n55. 54\n56. 55\n57. 56\n58. 57\n59. 58\n60. 59\n61. 60\n62. 61\n63. 62\n64. 63\n65. 64\n66. 65\n67. 66\n68. 67\n69. 68\n70. 69\n71. 70\n72. 71\n73. 72\n74. 73\n75. 74\n76. 75\n77. 76\n78. 77\n79. 78\n80. 79\n81. 80\n82. 81\n83. 82\n84. 83\n85. 84\n86. 85\n87. 86\n88. 87\n89. 88\n90. 89\n91. 90\n92. 91\n93. 92\n94. 93\n95. 94\n96. 95\n97. 96\n98. 97\n99. 98\n100. 99\n101. 100\n102. 101\n103. 102\n104. 103\n105. 104\n106. 105\n107. 106\n108. 107\n109. 108\n110. 109\n111. 110\n112. 111\n113. 112\n114. 113\n115. 114\n116. 115\n117. 116\n118. 117\n119. 118\n120. 119\n121. 120\n122. 121\n123. 122\n124. 123\n125. 124\n126. 125\n127. 126\n128. 127\n129. 128\n130. 129\n131. 130\n132. 131\n133. 132\n134. 133\n135. 134\n136. 135\n137. 136\n138. 137\n139. 138\n140. 139\n141. 140\n142. 141\n143. 142\n144. 143\n\n\n",
            "text/latex": "\\begin{enumerate*}\n\\item 0\n\\item 1\n\\item 2\n\\item 3\n\\item 4\n\\item 5\n\\item 6\n\\item 7\n\\item 8\n\\item 9\n\\item 10\n\\item 11\n\\item 12\n\\item 13\n\\item 14\n\\item 15\n\\item 16\n\\item 17\n\\item 18\n\\item 19\n\\item 20\n\\item 21\n\\item 22\n\\item 23\n\\item 24\n\\item 25\n\\item 26\n\\item 27\n\\item 28\n\\item 29\n\\item 30\n\\item 31\n\\item 32\n\\item 33\n\\item 34\n\\item 35\n\\item 36\n\\item 37\n\\item 38\n\\item 39\n\\item 40\n\\item 41\n\\item 42\n\\item 43\n\\item 44\n\\item 45\n\\item 46\n\\item 47\n\\item 48\n\\item 49\n\\item 50\n\\item 51\n\\item 52\n\\item 53\n\\item 54\n\\item 55\n\\item 56\n\\item 57\n\\item 58\n\\item 59\n\\item 60\n\\item 61\n\\item 62\n\\item 63\n\\item 64\n\\item 65\n\\item 66\n\\item 67\n\\item 68\n\\item 69\n\\item 70\n\\item 71\n\\item 72\n\\item 73\n\\item 74\n\\item 75\n\\item 76\n\\item 77\n\\item 78\n\\item 79\n\\item 80\n\\item 81\n\\item 82\n\\item 83\n\\item 84\n\\item 85\n\\item 86\n\\item 87\n\\item 88\n\\item 89\n\\item 90\n\\item 91\n\\item 92\n\\item 93\n\\item 94\n\\item 95\n\\item 96\n\\item 97\n\\item 98\n\\item 99\n\\item 100\n\\item 101\n\\item 102\n\\item 103\n\\item 104\n\\item 105\n\\item 106\n\\item 107\n\\item 108\n\\item 109\n\\item 110\n\\item 111\n\\item 112\n\\item 113\n\\item 114\n\\item 115\n\\item 116\n\\item 117\n\\item 118\n\\item 119\n\\item 120\n\\item 121\n\\item 122\n\\item 123\n\\item 124\n\\item 125\n\\item 126\n\\item 127\n\\item 128\n\\item 129\n\\item 130\n\\item 131\n\\item 132\n\\item 133\n\\item 134\n\\item 135\n\\item 136\n\\item 137\n\\item 138\n\\item 139\n\\item 140\n\\item 141\n\\item 142\n\\item 143\n\\end{enumerate*}\n",
            "text/plain": [
              "  [1]   0   1   2   3   4   5   6   7   8   9  10  11  12  13  14  15  16  17\n",
              " [19]  18  19  20  21  22  23  24  25  26  27  28  29  30  31  32  33  34  35\n",
              " [37]  36  37  38  39  40  41  42  43  44  45  46  47  48  49  50  51  52  53\n",
              " [55]  54  55  56  57  58  59  60  61  62  63  64  65  66  67  68  69  70  71\n",
              " [73]  72  73  74  75  76  77  78  79  80  81  82  83  84  85  86  87  88  89\n",
              " [91]  90  91  92  93  94  95  96  97  98  99 100 101 102 103 104 105 106 107\n",
              "[109] 108 109 110 111 112 113 114 115 116 117 118 119 120 121 122 123 124 125\n",
              "[127] 126 127 128 129 130 131 132 133 134 135 136 137 138 139 140 141 142 143"
            ]
          },
          "metadata": {}
        },
        {
          "output_type": "display_data",
          "data": {
            "text/plain": [
              "  [1] \"2023-10-20 00:00:00 UTC\" \"2023-10-20 01:00:00 UTC\"\n",
              "  [3] \"2023-10-20 02:00:00 UTC\" \"2023-10-20 03:00:00 UTC\"\n",
              "  [5] \"2023-10-20 04:00:00 UTC\" \"2023-10-20 05:00:00 UTC\"\n",
              "  [7] \"2023-10-20 06:00:00 UTC\" \"2023-10-20 07:00:00 UTC\"\n",
              "  [9] \"2023-10-20 08:00:00 UTC\" \"2023-10-20 09:00:00 UTC\"\n",
              " [11] \"2023-10-20 10:00:00 UTC\" \"2023-10-20 11:00:00 UTC\"\n",
              " [13] \"2023-10-20 12:00:00 UTC\" \"2023-10-20 13:00:00 UTC\"\n",
              " [15] \"2023-10-20 14:00:00 UTC\" \"2023-10-20 15:00:00 UTC\"\n",
              " [17] \"2023-10-20 16:00:00 UTC\" \"2023-10-20 17:00:00 UTC\"\n",
              " [19] \"2023-10-20 18:00:00 UTC\" \"2023-10-20 19:00:00 UTC\"\n",
              " [21] \"2023-10-20 20:00:00 UTC\" \"2023-10-20 21:00:00 UTC\"\n",
              " [23] \"2023-10-20 22:00:00 UTC\" \"2023-10-20 23:00:00 UTC\"\n",
              " [25] \"2023-10-21 00:00:00 UTC\" \"2023-10-21 01:00:00 UTC\"\n",
              " [27] \"2023-10-21 02:00:00 UTC\" \"2023-10-21 03:00:00 UTC\"\n",
              " [29] \"2023-10-21 04:00:00 UTC\" \"2023-10-21 05:00:00 UTC\"\n",
              " [31] \"2023-10-21 06:00:00 UTC\" \"2023-10-21 07:00:00 UTC\"\n",
              " [33] \"2023-10-21 08:00:00 UTC\" \"2023-10-21 09:00:00 UTC\"\n",
              " [35] \"2023-10-21 10:00:00 UTC\" \"2023-10-21 11:00:00 UTC\"\n",
              " [37] \"2023-10-21 12:00:00 UTC\" \"2023-10-21 13:00:00 UTC\"\n",
              " [39] \"2023-10-21 14:00:00 UTC\" \"2023-10-21 15:00:00 UTC\"\n",
              " [41] \"2023-10-21 16:00:00 UTC\" \"2023-10-21 17:00:00 UTC\"\n",
              " [43] \"2023-10-21 18:00:00 UTC\" \"2023-10-21 19:00:00 UTC\"\n",
              " [45] \"2023-10-21 20:00:00 UTC\" \"2023-10-21 21:00:00 UTC\"\n",
              " [47] \"2023-10-21 22:00:00 UTC\" \"2023-10-21 23:00:00 UTC\"\n",
              " [49] \"2023-10-22 00:00:00 UTC\" \"2023-10-22 01:00:00 UTC\"\n",
              " [51] \"2023-10-22 02:00:00 UTC\" \"2023-10-22 03:00:00 UTC\"\n",
              " [53] \"2023-10-22 04:00:00 UTC\" \"2023-10-22 05:00:00 UTC\"\n",
              " [55] \"2023-10-22 06:00:00 UTC\" \"2023-10-22 07:00:00 UTC\"\n",
              " [57] \"2023-10-22 08:00:00 UTC\" \"2023-10-22 09:00:00 UTC\"\n",
              " [59] \"2023-10-22 10:00:00 UTC\" \"2023-10-22 11:00:00 UTC\"\n",
              " [61] \"2023-10-22 12:00:00 UTC\" \"2023-10-22 13:00:00 UTC\"\n",
              " [63] \"2023-10-22 14:00:00 UTC\" \"2023-10-22 15:00:00 UTC\"\n",
              " [65] \"2023-10-22 16:00:00 UTC\" \"2023-10-22 17:00:00 UTC\"\n",
              " [67] \"2023-10-22 18:00:00 UTC\" \"2023-10-22 19:00:00 UTC\"\n",
              " [69] \"2023-10-22 20:00:00 UTC\" \"2023-10-22 21:00:00 UTC\"\n",
              " [71] \"2023-10-22 22:00:00 UTC\" \"2023-10-22 23:00:00 UTC\"\n",
              " [73] \"2023-10-23 00:00:00 UTC\" \"2023-10-23 01:00:00 UTC\"\n",
              " [75] \"2023-10-23 02:00:00 UTC\" \"2023-10-23 03:00:00 UTC\"\n",
              " [77] \"2023-10-23 04:00:00 UTC\" \"2023-10-23 05:00:00 UTC\"\n",
              " [79] \"2023-10-23 06:00:00 UTC\" \"2023-10-23 07:00:00 UTC\"\n",
              " [81] \"2023-10-23 08:00:00 UTC\" \"2023-10-23 09:00:00 UTC\"\n",
              " [83] \"2023-10-23 10:00:00 UTC\" \"2023-10-23 11:00:00 UTC\"\n",
              " [85] \"2023-10-23 12:00:00 UTC\" \"2023-10-23 13:00:00 UTC\"\n",
              " [87] \"2023-10-23 14:00:00 UTC\" \"2023-10-23 15:00:00 UTC\"\n",
              " [89] \"2023-10-23 16:00:00 UTC\" \"2023-10-23 17:00:00 UTC\"\n",
              " [91] \"2023-10-23 18:00:00 UTC\" \"2023-10-23 19:00:00 UTC\"\n",
              " [93] \"2023-10-23 20:00:00 UTC\" \"2023-10-23 21:00:00 UTC\"\n",
              " [95] \"2023-10-23 22:00:00 UTC\" \"2023-10-23 23:00:00 UTC\"\n",
              " [97] \"2023-10-24 00:00:00 UTC\" \"2023-10-24 01:00:00 UTC\"\n",
              " [99] \"2023-10-24 02:00:00 UTC\" \"2023-10-24 03:00:00 UTC\"\n",
              "[101] \"2023-10-24 04:00:00 UTC\" \"2023-10-24 05:00:00 UTC\"\n",
              "[103] \"2023-10-24 06:00:00 UTC\" \"2023-10-24 07:00:00 UTC\"\n",
              "[105] \"2023-10-24 08:00:00 UTC\" \"2023-10-24 09:00:00 UTC\"\n",
              "[107] \"2023-10-24 10:00:00 UTC\" \"2023-10-24 11:00:00 UTC\"\n",
              "[109] \"2023-10-24 12:00:00 UTC\" \"2023-10-24 13:00:00 UTC\"\n",
              "[111] \"2023-10-24 14:00:00 UTC\" \"2023-10-24 15:00:00 UTC\"\n",
              "[113] \"2023-10-24 16:00:00 UTC\" \"2023-10-24 17:00:00 UTC\"\n",
              "[115] \"2023-10-24 18:00:00 UTC\" \"2023-10-24 19:00:00 UTC\"\n",
              "[117] \"2023-10-24 20:00:00 UTC\" \"2023-10-24 21:00:00 UTC\"\n",
              "[119] \"2023-10-24 22:00:00 UTC\" \"2023-10-24 23:00:00 UTC\"\n",
              "[121] \"2023-10-25 00:00:00 UTC\" \"2023-10-25 01:00:00 UTC\"\n",
              "[123] \"2023-10-25 02:00:00 UTC\" \"2023-10-25 03:00:00 UTC\"\n",
              "[125] \"2023-10-25 04:00:00 UTC\" \"2023-10-25 05:00:00 UTC\"\n",
              "[127] \"2023-10-25 06:00:00 UTC\" \"2023-10-25 07:00:00 UTC\"\n",
              "[129] \"2023-10-25 08:00:00 UTC\" \"2023-10-25 09:00:00 UTC\"\n",
              "[131] \"2023-10-25 10:00:00 UTC\" \"2023-10-25 11:00:00 UTC\"\n",
              "[133] \"2023-10-25 12:00:00 UTC\" \"2023-10-25 13:00:00 UTC\"\n",
              "[135] \"2023-10-25 14:00:00 UTC\" \"2023-10-25 15:00:00 UTC\"\n",
              "[137] \"2023-10-25 16:00:00 UTC\" \"2023-10-25 17:00:00 UTC\"\n",
              "[139] \"2023-10-25 18:00:00 UTC\" \"2023-10-25 19:00:00 UTC\"\n",
              "[141] \"2023-10-25 20:00:00 UTC\" \"2023-10-25 21:00:00 UTC\"\n",
              "[143] \"2023-10-25 22:00:00 UTC\" \"2023-10-25 23:00:00 UTC\""
            ]
          },
          "metadata": {}
        }
      ]
    },
    {
      "cell_type": "code",
      "source": [
        "horas <- c(0:23)\n",
        "for (i in 1:6) {\n",
        "\n",
        "}\n",
        "\n",
        "pos_max <- which(datos_PP1 == pp_max, arr.ind = T)\n",
        "pos_fecha_max <- pos_max[3]\n",
        "fecha_max <- time[pos_fecha_max]\n",
        "YYYY <- year(fecha_max)\n",
        "MM <- month(fecha_max)\n",
        "DD <- day(fecha_max)\n",
        "HH <- hour(fecha_max)"
      ],
      "metadata": {
        "id": "CAv29RU5fC1m"
      },
      "execution_count": 85,
      "outputs": []
    },
    {
      "cell_type": "markdown",
      "source": [
        "<b>No se olviden de guardar en Github!</b>\n",
        "\n",
        "Van a Archivo ⇒ Guardar una copia en Github. (Les va a pedir usuario y contraseña)\n",
        "\n",
        "Si alguna ves requieren clonar su carpeta en colab puede utilizar los comando de Git de esta manera."
      ],
      "metadata": {
        "id": "P-ps5r030WaD"
      }
    },
    {
      "cell_type": "code",
      "source": [
        "! git clone link #Inserten su link"
      ],
      "metadata": {
        "id": "304TJWEG0V3S"
      },
      "execution_count": null,
      "outputs": []
    }
  ]
}